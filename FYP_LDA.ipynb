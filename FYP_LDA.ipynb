{
  "nbformat": 4,
  "nbformat_minor": 0,
  "metadata": {
    "colab": {
      "name": "FYP_LDA.ipynb",
      "provenance": [],
      "include_colab_link": true
    },
    "kernelspec": {
      "name": "python3",
      "display_name": "Python 3"
    },
    "language_info": {
      "name": "python"
    }
  },
  "cells": [
    {
      "cell_type": "markdown",
      "metadata": {
        "id": "view-in-github",
        "colab_type": "text"
      },
      "source": [
        "<a href=\"https://colab.research.google.com/github/Lakshika-Swarnamali/Diagrams/blob/master/FYP_LDA.ipynb\" target=\"_parent\"><img src=\"https://colab.research.google.com/assets/colab-badge.svg\" alt=\"Open In Colab\"/></a>"
      ]
    },
    {
      "cell_type": "code",
      "metadata": {
        "id": "NiSdDcfPBrfA"
      },
      "source": [
        "import pandas as pd\n",
        "import numpy as np\n",
        "import re\n",
        "import matplotlib.pyplot as plt\n",
        "plt.style.use ('fivethirtyeight')\n",
        "import os\n",
        "import pandas as pd\n",
        "import matplotlib.pyplot as plt\n",
        "import seaborn as sns\n",
        "import itertools\n",
        "import collections\n",
        "\n",
        "import tweepy as tw\n",
        "import nltk\n",
        "from nltk.corpus import stopwords\n",
        "import re\n",
        "import networkx\n",
        "\n",
        "import warnings\n",
        "warnings.filterwarnings(\"ignore\")\n",
        "\n",
        "sns.set(font_scale=1.5)\n",
        "sns.set_style(\"whitegrid\")\n",
        "# packages to store and manipulate data\n",
        "import pandas as pd\n",
        "import numpy as np\n",
        "\n",
        "# plotting packages\n",
        "import matplotlib.pyplot as plt\n",
        "import seaborn as sns\n",
        "\n",
        "# model building package\n",
        "import sklearn\n",
        "\n",
        "# package to clean text\n",
        "import re"
      ],
      "execution_count": null,
      "outputs": []
    },
    {
      "cell_type": "code",
      "metadata": {
        "colab": {
          "base_uri": "https://localhost:8080/",
          "height": 394
        },
        "id": "-r3gK2MyBzV8",
        "outputId": "a2e11933-9845-4395-f99a-42a826d61979"
      },
      "source": [
        "log = pd.read_csv(\"https://raw.githubusercontent.com/GihanKLG/TwitterCovid19Dataset/master/2020-10-12.csv\",encoding='latin1')\n",
        "log[(log['lang'] == 'en')].to_csv(\"out.csv\", index=False)\n",
        "log = pd.read_csv('out.csv', lineterminator='\\n',encoding='latin1')\n",
        "log.head()"
      ],
      "execution_count": null,
      "outputs": [
        {
          "output_type": "execute_result",
          "data": {
            "text/html": [
              "<div>\n",
              "<style scoped>\n",
              "    .dataframe tbody tr th:only-of-type {\n",
              "        vertical-align: middle;\n",
              "    }\n",
              "\n",
              "    .dataframe tbody tr th {\n",
              "        vertical-align: top;\n",
              "    }\n",
              "\n",
              "    .dataframe thead th {\n",
              "        text-align: right;\n",
              "    }\n",
              "</style>\n",
              "<table border=\"1\" class=\"dataframe\">\n",
              "  <thead>\n",
              "    <tr style=\"text-align: right;\">\n",
              "      <th></th>\n",
              "      <th>coordinates</th>\n",
              "      <th>created_at</th>\n",
              "      <th>hashtags</th>\n",
              "      <th>media</th>\n",
              "      <th>urls</th>\n",
              "      <th>favorite_count</th>\n",
              "      <th>id</th>\n",
              "      <th>in_reply_to_screen_name</th>\n",
              "      <th>in_reply_to_status_id</th>\n",
              "      <th>in_reply_to_user_id</th>\n",
              "      <th>lang</th>\n",
              "      <th>place</th>\n",
              "      <th>possibly_sensitive</th>\n",
              "      <th>retweet_count</th>\n",
              "      <th>retweet_id</th>\n",
              "      <th>retweet_screen_name</th>\n",
              "      <th>source</th>\n",
              "      <th>text</th>\n",
              "      <th>tweet_url</th>\n",
              "      <th>user_created_at</th>\n",
              "      <th>user_screen_name</th>\n",
              "      <th>user_default_profile_image</th>\n",
              "      <th>user_description</th>\n",
              "      <th>user_favourites_count</th>\n",
              "      <th>user_followers_count</th>\n",
              "      <th>user_friends_count</th>\n",
              "      <th>user_listed_count</th>\n",
              "      <th>user_location</th>\n",
              "      <th>user_name</th>\n",
              "      <th>user_screen_name.1</th>\n",
              "      <th>user_statuses_count</th>\n",
              "      <th>user_time_zone</th>\n",
              "      <th>user_urls</th>\n",
              "      <th>user_verified</th>\n",
              "    </tr>\n",
              "  </thead>\n",
              "  <tbody>\n",
              "    <tr>\n",
              "      <th>0</th>\n",
              "      <td>NaN</td>\n",
              "      <td>Sun Oct 11 23:59:54 +0000 2020</td>\n",
              "      <td>NaN</td>\n",
              "      <td>NaN</td>\n",
              "      <td>NaN</td>\n",
              "      <td>0</td>\n",
              "      <td>1315442032651927552</td>\n",
              "      <td>BalutSmithy</td>\n",
              "      <td>1.315403e+18</td>\n",
              "      <td>1.296441e+18</td>\n",
              "      <td>en</td>\n",
              "      <td>NaN</td>\n",
              "      <td>NaN</td>\n",
              "      <td>0</td>\n",
              "      <td>NaN</td>\n",
              "      <td>NaN</td>\n",
              "      <td>&lt;a href=\"https://mobile.twitter.com\" rel=\"nofo...</td>\n",
              "      <td>@BalutSmithy @StephenJohn59 @jaketapper @kaitl...</td>\n",
              "      <td>https://twitter.com/NorthLapp/status/131544203...</td>\n",
              "      <td>Sun Mar 25 19:25:10 +0000 2012</td>\n",
              "      <td>NorthLapp</td>\n",
              "      <td>False</td>\n",
              "      <td>I need more followers, I will expose the truth...</td>\n",
              "      <td>1979</td>\n",
              "      <td>1291</td>\n",
              "      <td>1805</td>\n",
              "      <td>28</td>\n",
              "      <td>NaN</td>\n",
              "      <td>Renee J North Lapp</td>\n",
              "      <td>NorthLapp</td>\n",
              "      <td>12503</td>\n",
              "      <td>NaN</td>\n",
              "      <td>NaN</td>\n",
              "      <td>False</td>\n",
              "    </tr>\n",
              "    <tr>\n",
              "      <th>1</th>\n",
              "      <td>NaN</td>\n",
              "      <td>Sun Oct 11 23:59:56 +0000 2020</td>\n",
              "      <td>NaN</td>\n",
              "      <td>NaN</td>\n",
              "      <td>NaN</td>\n",
              "      <td>0</td>\n",
              "      <td>1315442037286678529</td>\n",
              "      <td>NaN</td>\n",
              "      <td>NaN</td>\n",
              "      <td>NaN</td>\n",
              "      <td>en</td>\n",
              "      <td>NaN</td>\n",
              "      <td>NaN</td>\n",
              "      <td>1</td>\n",
              "      <td>1.315348e+18</td>\n",
              "      <td>PetraCEsser1</td>\n",
              "      <td>&lt;a href=\"https://mobile.twitter.com\" rel=\"nofo...</td>\n",
              "      <td>RT @PetraCEsser1: @HSRetoucher Thank you. I am...</td>\n",
              "      <td>https://twitter.com/johncoppa44/status/1315442...</td>\n",
              "      <td>Fri Feb 26 09:25:23 +0000 2016</td>\n",
              "      <td>johncoppa44</td>\n",
              "      <td>True</td>\n",
              "      <td>NaN</td>\n",
              "      <td>3031</td>\n",
              "      <td>31</td>\n",
              "      <td>287</td>\n",
              "      <td>1</td>\n",
              "      <td>NaN</td>\n",
              "      <td>john coppa</td>\n",
              "      <td>johncoppa44</td>\n",
              "      <td>7490</td>\n",
              "      <td>NaN</td>\n",
              "      <td>NaN</td>\n",
              "      <td>False</td>\n",
              "    </tr>\n",
              "    <tr>\n",
              "      <th>2</th>\n",
              "      <td>NaN</td>\n",
              "      <td>Sun Oct 11 23:59:56 +0000 2020</td>\n",
              "      <td>NaN</td>\n",
              "      <td>NaN</td>\n",
              "      <td>https://twitter.com/onlinelonghorn/status/1315...</td>\n",
              "      <td>0</td>\n",
              "      <td>1315442039870324736</td>\n",
              "      <td>NaN</td>\n",
              "      <td>NaN</td>\n",
              "      <td>NaN</td>\n",
              "      <td>en</td>\n",
              "      <td>NaN</td>\n",
              "      <td>False</td>\n",
              "      <td>0</td>\n",
              "      <td>NaN</td>\n",
              "      <td>NaN</td>\n",
              "      <td>&lt;a href=\"http://twitter.com/download/iphone\" r...</td>\n",
              "      <td>*corona liked this post* https://t.co/3mAPNWNAfK</td>\n",
              "      <td>https://twitter.com/ivythekingrat/status/13154...</td>\n",
              "      <td>Mon Dec 11 16:09:37 +0000 2017</td>\n",
              "      <td>ivythekingrat</td>\n",
              "      <td>False</td>\n",
              "      <td>nope</td>\n",
              "      <td>4001</td>\n",
              "      <td>95</td>\n",
              "      <td>153</td>\n",
              "      <td>0</td>\n",
              "      <td>puerto rico</td>\n",
              "      <td>rat zone</td>\n",
              "      <td>ivythekingrat</td>\n",
              "      <td>1633</td>\n",
              "      <td>NaN</td>\n",
              "      <td>NaN</td>\n",
              "      <td>False</td>\n",
              "    </tr>\n",
              "    <tr>\n",
              "      <th>3</th>\n",
              "      <td>NaN</td>\n",
              "      <td>Sun Oct 11 23:59:55 +0000 2020</td>\n",
              "      <td>SidNaaz</td>\n",
              "      <td>NaN</td>\n",
              "      <td>NaN</td>\n",
              "      <td>0</td>\n",
              "      <td>1315442036028260353</td>\n",
              "      <td>NaN</td>\n",
              "      <td>NaN</td>\n",
              "      <td>NaN</td>\n",
              "      <td>en</td>\n",
              "      <td>NaN</td>\n",
              "      <td>NaN</td>\n",
              "      <td>120</td>\n",
              "      <td>1.315334e+18</td>\n",
              "      <td>SidNaaz13Dstny</td>\n",
              "      <td>&lt;a href=\"http://twitter.com/download/android\" ...</td>\n",
              "      <td>RT @SidNaaz13Dstny: Points\\n\\n1. Salman Sir #S...</td>\n",
              "      <td>https://twitter.com/Tejakshi1/status/131544203...</td>\n",
              "      <td>Sat Jan 04 06:50:54 +0000 2020</td>\n",
              "      <td>Tejakshi1</td>\n",
              "      <td>False</td>\n",
              "      <td>Ã°ÂÂ¤Â¡</td>\n",
              "      <td>57815</td>\n",
              "      <td>282</td>\n",
              "      <td>579</td>\n",
              "      <td>0</td>\n",
              "      <td>NaN</td>\n",
              "      <td>tejakshi shetty</td>\n",
              "      <td>Tejakshi1</td>\n",
              "      <td>39117</td>\n",
              "      <td>NaN</td>\n",
              "      <td>NaN</td>\n",
              "      <td>False</td>\n",
              "    </tr>\n",
              "    <tr>\n",
              "      <th>4</th>\n",
              "      <td>NaN</td>\n",
              "      <td>Sun Oct 11 23:59:55 +0000 2020</td>\n",
              "      <td>NaN</td>\n",
              "      <td>NaN</td>\n",
              "      <td>NaN</td>\n",
              "      <td>0</td>\n",
              "      <td>1315442033331507203</td>\n",
              "      <td>NaN</td>\n",
              "      <td>NaN</td>\n",
              "      <td>NaN</td>\n",
              "      <td>en</td>\n",
              "      <td>NaN</td>\n",
              "      <td>NaN</td>\n",
              "      <td>10711</td>\n",
              "      <td>1.315345e+18</td>\n",
              "      <td>CLewandowski_</td>\n",
              "      <td>&lt;a href=\"http://twitter.com/#!/download/ipad\" ...</td>\n",
              "      <td>RT @CLewandowski_: WHO now advising against lo...</td>\n",
              "      <td>https://twitter.com/LoisR52511816/status/13154...</td>\n",
              "      <td>Sun Aug 02 16:10:47 +0000 2020</td>\n",
              "      <td>LoisR52511816</td>\n",
              "      <td>True</td>\n",
              "      <td>NaN</td>\n",
              "      <td>28886</td>\n",
              "      <td>88</td>\n",
              "      <td>277</td>\n",
              "      <td>0</td>\n",
              "      <td>NaN</td>\n",
              "      <td>LoisR</td>\n",
              "      <td>LoisR52511816</td>\n",
              "      <td>13602</td>\n",
              "      <td>NaN</td>\n",
              "      <td>NaN</td>\n",
              "      <td>False</td>\n",
              "    </tr>\n",
              "  </tbody>\n",
              "</table>\n",
              "</div>"
            ],
            "text/plain": [
              "  coordinates                      created_at  ... user_urls user_verified\n",
              "0         NaN  Sun Oct 11 23:59:54 +0000 2020  ...       NaN         False\n",
              "1         NaN  Sun Oct 11 23:59:56 +0000 2020  ...       NaN         False\n",
              "2         NaN  Sun Oct 11 23:59:56 +0000 2020  ...       NaN         False\n",
              "3         NaN  Sun Oct 11 23:59:55 +0000 2020  ...       NaN         False\n",
              "4         NaN  Sun Oct 11 23:59:55 +0000 2020  ...       NaN         False\n",
              "\n",
              "[5 rows x 34 columns]"
            ]
          },
          "metadata": {
            "tags": []
          },
          "execution_count": 2
        }
      ]
    },
    {
      "cell_type": "code",
      "metadata": {
        "colab": {
          "base_uri": "https://localhost:8080/"
        },
        "id": "OOUbiHeKB5Ib",
        "outputId": "7bbef582-b1c6-4ba4-9c40-0967da042e2f"
      },
      "source": [
        "# importing pandas package\n",
        "import pandas as pd\n",
        " \n",
        "# making data frame from csv file\n",
        "data = pd.read_csv(\"https://raw.githubusercontent.com/GihanKLG/TwitterCovid19Dataset/master/2020-10-12.csv\", index_col =\"id\")\n",
        " \n",
        "# retrieving columns by indexing operator\n",
        "# first = data[\"user_name\"]\n",
        "my_column_names = [ 'user_name','text']\n",
        "df = pd.DataFrame(data=data, columns=my_column_names)\n",
        "lda = pd.DataFrame(data=data, columns=my_column_names)\n",
        "# print(first)\n",
        "# print(first['id', 'user_name','retweet_count','retweet_id'])\n",
        "print(df)\n",
        "# df.head(5)"
      ],
      "execution_count": null,
      "outputs": [
        {
          "output_type": "stream",
          "text": [
            "                              user_name                                               text\n",
            "id                                                                                        \n",
            "1315442032651927552  Renee J North Lapp  @BalutSmithy @StephenJohn59 @jaketapper @kaitl...\n",
            "1315442033507684352             🎃 leh 🎃  RT @dougraz: todo dia pensando será se eu ja p...\n",
            "1315442037286678529          john coppa  RT @PetraCEsser1: @HSRetoucher Thank you. I am...\n",
            "1315442040172425216      Reivindicación               @PedroAzzola https://t.co/RxL0DAaQaI\n",
            "1315442039870324736            rat zone   *corona liked this post* https://t.co/3mAPNWNAfK\n",
            "...                                 ...                                                ...\n",
            "1315457129835302914     AnnieMoonIsBlue  RT @BillKristol: On President Trump and Dr. Fa...\n",
            "1315457130460327938        Dardo Boggia  RT @osvaldo_quiroga: Lo entrevisté muchísimas ...\n",
            "1315457129847889921                Shay    ISOLATION\\n\\nNot COVID. https://t.co/d4j0jm7j0e\n",
            "1315457128472088578           Amy Wolfe  RT @dockaurG: Political WHO's \"Science\"\\n\\nFeb...\n",
            "1315457130997088257          LuizFausto  RT @JamesTodaroMD: BREAKING: WHO reverses posi...\n",
            "\n",
            "[166536 rows x 2 columns]\n"
          ],
          "name": "stdout"
        }
      ]
    },
    {
      "cell_type": "code",
      "metadata": {
        "colab": {
          "base_uri": "https://localhost:8080/"
        },
        "id": "2sl6ZIdDZ_co",
        "outputId": "9fe6d0a7-7c94-4e19-ec43-c97a581ddafa"
      },
      "source": [
        "# make a new column to highlight retweets\n",
        "df['is_retweet'] = df['text'].apply(lambda x: x[:2]=='RT')\n",
        "df['is_retweet'].sum()  # number of retweets"
      ],
      "execution_count": null,
      "outputs": [
        {
          "output_type": "execute_result",
          "data": {
            "text/plain": [
              "125905"
            ]
          },
          "metadata": {
            "tags": []
          },
          "execution_count": 4
        }
      ]
    },
    {
      "cell_type": "code",
      "metadata": {
        "colab": {
          "base_uri": "https://localhost:8080/"
        },
        "id": "VH9qwvm1Z_ZQ",
        "outputId": "c2bf730a-89d0-4e83-fbab-ddf3851ab726"
      },
      "source": [
        " # number of unique retweets\n",
        "df.loc[df['is_retweet']].text.unique().size"
      ],
      "execution_count": null,
      "outputs": [
        {
          "output_type": "execute_result",
          "data": {
            "text/plain": [
              "24446"
            ]
          },
          "metadata": {
            "tags": []
          },
          "execution_count": 6
        }
      ]
    },
    {
      "cell_type": "code",
      "metadata": {
        "colab": {
          "base_uri": "https://localhost:8080/",
          "height": 359
        },
        "id": "t1h9CMKqZ_XN",
        "outputId": "5b968a4c-d8e6-470c-cb4e-c2301fdaf071"
      },
      "source": [
        "# 10 most repeated tweets\n",
        "df.groupby(['text']).size().reset_index(name='counts')\\\n",
        "  .sort_values('counts', ascending=False).head(10)"
      ],
      "execution_count": null,
      "outputs": [
        {
          "output_type": "execute_result",
          "data": {
            "text/html": [
              "<div>\n",
              "<style scoped>\n",
              "    .dataframe tbody tr th:only-of-type {\n",
              "        vertical-align: middle;\n",
              "    }\n",
              "\n",
              "    .dataframe tbody tr th {\n",
              "        vertical-align: top;\n",
              "    }\n",
              "\n",
              "    .dataframe thead th {\n",
              "        text-align: right;\n",
              "    }\n",
              "</style>\n",
              "<table border=\"1\" class=\"dataframe\">\n",
              "  <thead>\n",
              "    <tr style=\"text-align: right;\">\n",
              "      <th></th>\n",
              "      <th>text</th>\n",
              "      <th>counts</th>\n",
              "    </tr>\n",
              "  </thead>\n",
              "  <tbody>\n",
              "    <tr>\n",
              "      <th>40345</th>\n",
              "      <td>RT @RBReich: So let me get this straight: wear...</td>\n",
              "      <td>4200</td>\n",
              "    </tr>\n",
              "    <tr>\n",
              "      <th>39539</th>\n",
              "      <td>RT @OliviaTroye: The latest @realDonaldTrump c...</td>\n",
              "      <td>3235</td>\n",
              "    </tr>\n",
              "    <tr>\n",
              "      <th>48560</th>\n",
              "      <td>RT @joleelachelle: y’all are going out during ...</td>\n",
              "      <td>2950</td>\n",
              "    </tr>\n",
              "    <tr>\n",
              "      <th>34694</th>\n",
              "      <td>RT @GFiuza_Oficial: Com o reconhecimento pela ...</td>\n",
              "      <td>1284</td>\n",
              "    </tr>\n",
              "    <tr>\n",
              "      <th>38101</th>\n",
              "      <td>RT @MarshallCohen: Apparently, the Trump campa...</td>\n",
              "      <td>1208</td>\n",
              "    </tr>\n",
              "    <tr>\n",
              "      <th>49564</th>\n",
              "      <td>RT @lordxred: Telling my kids I survived 3 glo...</td>\n",
              "      <td>1133</td>\n",
              "    </tr>\n",
              "    <tr>\n",
              "      <th>36373</th>\n",
              "      <td>RT @JoeBiden: When President Trump was told on...</td>\n",
              "      <td>1119</td>\n",
              "    </tr>\n",
              "    <tr>\n",
              "      <th>43717</th>\n",
              "      <td>RT @WhiteHouse: \"There is simply no historical...</td>\n",
              "      <td>1035</td>\n",
              "    </tr>\n",
              "    <tr>\n",
              "      <th>34053</th>\n",
              "      <td>RT @EmeraldRobinson: RIP in 2020 to the credib...</td>\n",
              "      <td>1011</td>\n",
              "    </tr>\n",
              "    <tr>\n",
              "      <th>49273</th>\n",
              "      <td>RT @larryelder: 'Irreparable damage': Over 6,0...</td>\n",
              "      <td>854</td>\n",
              "    </tr>\n",
              "  </tbody>\n",
              "</table>\n",
              "</div>"
            ],
            "text/plain": [
              "                                                    text  counts\n",
              "40345  RT @RBReich: So let me get this straight: wear...    4200\n",
              "39539  RT @OliviaTroye: The latest @realDonaldTrump c...    3235\n",
              "48560  RT @joleelachelle: y’all are going out during ...    2950\n",
              "34694  RT @GFiuza_Oficial: Com o reconhecimento pela ...    1284\n",
              "38101  RT @MarshallCohen: Apparently, the Trump campa...    1208\n",
              "49564  RT @lordxred: Telling my kids I survived 3 glo...    1133\n",
              "36373  RT @JoeBiden: When President Trump was told on...    1119\n",
              "43717  RT @WhiteHouse: \"There is simply no historical...    1035\n",
              "34053  RT @EmeraldRobinson: RIP in 2020 to the credib...    1011\n",
              "49273  RT @larryelder: 'Irreparable damage': Over 6,0...     854"
            ]
          },
          "metadata": {
            "tags": []
          },
          "execution_count": 7
        }
      ]
    },
    {
      "cell_type": "code",
      "metadata": {
        "colab": {
          "base_uri": "https://localhost:8080/",
          "height": 304
        },
        "id": "mfkVj4J1Z_VH",
        "outputId": "2a49c737-3fe5-4c91-a380-61ba01454add"
      },
      "source": [
        "# number of times each tweet appears\n",
        "counts = df.groupby(['text']).size()\\\n",
        "           .reset_index(name='counts')\\\n",
        "           .counts\n",
        "\n",
        "# define bins for histogram\n",
        "my_bins = np.arange(0,counts.max()+2, 1)-0.5\n",
        "\n",
        "# plot histogram of tweet counts\n",
        "plt.figure()\n",
        "plt.hist(counts, bins = my_bins)\n",
        "plt.xlabels = np.arange(1,counts.max()+1, 1)\n",
        "plt.xlabel('copies of each tweet')\n",
        "plt.ylabel('frequency')\n",
        "plt.yscale('log', nonposy='clip')\n",
        "plt.hist(counts, color = \"skyblue\")\n",
        "plt.show()"
      ],
      "execution_count": null,
      "outputs": [
        {
          "output_type": "display_data",
          "data": {
            "image/png": "[encoded data removed]",
            "text/plain": [
              "<Figure size 432x288 with 1 Axes>"
            ]
          },
          "metadata": {
            "tags": [],
            "needs_background": "light"
          }
        }
      ]
    },
    {
      "cell_type": "code",
      "metadata": {
        "id": "pXJloY9-Z_S9"
      },
      "source": [
        "def find_retweeted(text):\n",
        "    '''This function will extract the twitter handles of retweed people'''\n",
        "    return re.findall('(?<=RT\\s)(@[A-Za-z]+[A-Za-z0-9-_]+)', text)\n",
        "\n",
        "def find_mentioned(text):\n",
        "    '''This function will extract the twitter handles of people mentioned in the tweet'''\n",
        "    return re.findall('(?<!RT\\s)(@[A-Za-z]+[A-Za-z0-9-_]+)', text)  \n",
        "\n",
        "def find_hashtags(text):\n",
        "    '''This function will extract hashtags'''\n",
        "    return re.findall('(#[A-Za-z]+[A-Za-z0-9-_]+)', text)  "
      ],
      "execution_count": null,
      "outputs": []
    },
    {
      "cell_type": "code",
      "metadata": {
        "colab": {
          "base_uri": "https://localhost:8080/",
          "height": 776
        },
        "id": "w6IaI49qZ_Qy",
        "outputId": "56d77d09-0e37-4fd5-8efb-22ba52e950c1"
      },
      "source": [
        "df['retweeted'] = df.text.apply(find_retweeted)\n",
        "df['mentioned'] = df.text.apply(find_mentioned)\n",
        "df['hashtags'] = df.text.apply(find_hashtags)\n",
        "df"
      ],
      "execution_count": null,
      "outputs": [
        {
          "output_type": "execute_result",
          "data": {
            "text/html": [
              "<div>\n",
              "<style scoped>\n",
              "    .dataframe tbody tr th:only-of-type {\n",
              "        vertical-align: middle;\n",
              "    }\n",
              "\n",
              "    .dataframe tbody tr th {\n",
              "        vertical-align: top;\n",
              "    }\n",
              "\n",
              "    .dataframe thead th {\n",
              "        text-align: right;\n",
              "    }\n",
              "</style>\n",
              "<table border=\"1\" class=\"dataframe\">\n",
              "  <thead>\n",
              "    <tr style=\"text-align: right;\">\n",
              "      <th></th>\n",
              "      <th>user_name</th>\n",
              "      <th>text</th>\n",
              "      <th>is_retweet</th>\n",
              "      <th>retweeted</th>\n",
              "      <th>mentioned</th>\n",
              "      <th>hashtags</th>\n",
              "    </tr>\n",
              "    <tr>\n",
              "      <th>id</th>\n",
              "      <th></th>\n",
              "      <th></th>\n",
              "      <th></th>\n",
              "      <th></th>\n",
              "      <th></th>\n",
              "      <th></th>\n",
              "    </tr>\n",
              "  </thead>\n",
              "  <tbody>\n",
              "    <tr>\n",
              "      <th>1315442032651927552</th>\n",
              "      <td>Renee J North Lapp</td>\n",
              "      <td>@BalutSmithy @StephenJohn59 @jaketapper @kaitl...</td>\n",
              "      <td>False</td>\n",
              "      <td>[]</td>\n",
              "      <td>[@BalutSmithy, @StephenJohn59, @jaketapper, @k...</td>\n",
              "      <td>[]</td>\n",
              "    </tr>\n",
              "    <tr>\n",
              "      <th>1315442033507684352</th>\n",
              "      <td>🎃 leh 🎃</td>\n",
              "      <td>RT @dougraz: todo dia pensando será se eu ja p...</td>\n",
              "      <td>True</td>\n",
              "      <td>[@dougraz]</td>\n",
              "      <td>[]</td>\n",
              "      <td>[]</td>\n",
              "    </tr>\n",
              "    <tr>\n",
              "      <th>1315442037286678529</th>\n",
              "      <td>john coppa</td>\n",
              "      <td>RT @PetraCEsser1: @HSRetoucher Thank you. I am...</td>\n",
              "      <td>True</td>\n",
              "      <td>[@PetraCEsser1]</td>\n",
              "      <td>[@HSRetoucher]</td>\n",
              "      <td>[]</td>\n",
              "    </tr>\n",
              "    <tr>\n",
              "      <th>1315442040172425216</th>\n",
              "      <td>Reivindicación</td>\n",
              "      <td>@PedroAzzola https://t.co/RxL0DAaQaI</td>\n",
              "      <td>False</td>\n",
              "      <td>[]</td>\n",
              "      <td>[@PedroAzzola]</td>\n",
              "      <td>[]</td>\n",
              "    </tr>\n",
              "    <tr>\n",
              "      <th>1315442039870324736</th>\n",
              "      <td>rat zone</td>\n",
              "      <td>*corona liked this post* https://t.co/3mAPNWNAfK</td>\n",
              "      <td>False</td>\n",
              "      <td>[]</td>\n",
              "      <td>[]</td>\n",
              "      <td>[]</td>\n",
              "    </tr>\n",
              "    <tr>\n",
              "      <th>...</th>\n",
              "      <td>...</td>\n",
              "      <td>...</td>\n",
              "      <td>...</td>\n",
              "      <td>...</td>\n",
              "      <td>...</td>\n",
              "      <td>...</td>\n",
              "    </tr>\n",
              "    <tr>\n",
              "      <th>1315457129835302914</th>\n",
              "      <td>AnnieMoonIsBlue</td>\n",
              "      <td>RT @BillKristol: On President Trump and Dr. Fa...</td>\n",
              "      <td>True</td>\n",
              "      <td>[@BillKristol]</td>\n",
              "      <td>[]</td>\n",
              "      <td>[]</td>\n",
              "    </tr>\n",
              "    <tr>\n",
              "      <th>1315457130460327938</th>\n",
              "      <td>Dardo Boggia</td>\n",
              "      <td>RT @osvaldo_quiroga: Lo entrevisté muchísimas ...</td>\n",
              "      <td>True</td>\n",
              "      <td>[@osvaldo_quiroga]</td>\n",
              "      <td>[]</td>\n",
              "      <td>[]</td>\n",
              "    </tr>\n",
              "    <tr>\n",
              "      <th>1315457129847889921</th>\n",
              "      <td>Shay</td>\n",
              "      <td>ISOLATION\\n\\nNot COVID. https://t.co/d4j0jm7j0e</td>\n",
              "      <td>False</td>\n",
              "      <td>[]</td>\n",
              "      <td>[]</td>\n",
              "      <td>[]</td>\n",
              "    </tr>\n",
              "    <tr>\n",
              "      <th>1315457128472088578</th>\n",
              "      <td>Amy Wolfe</td>\n",
              "      <td>RT @dockaurG: Political WHO's \"Science\"\\n\\nFeb...</td>\n",
              "      <td>True</td>\n",
              "      <td>[@dockaurG]</td>\n",
              "      <td>[]</td>\n",
              "      <td>[]</td>\n",
              "    </tr>\n",
              "    <tr>\n",
              "      <th>1315457130997088257</th>\n",
              "      <td>LuizFausto</td>\n",
              "      <td>RT @JamesTodaroMD: BREAKING: WHO reverses posi...</td>\n",
              "      <td>True</td>\n",
              "      <td>[@JamesTodaroMD]</td>\n",
              "      <td>[]</td>\n",
              "      <td>[]</td>\n",
              "    </tr>\n",
              "  </tbody>\n",
              "</table>\n",
              "<p>166536 rows × 6 columns</p>\n",
              "</div>"
            ],
            "text/plain": [
              "                              user_name  ... hashtags\n",
              "id                                       ...         \n",
              "1315442032651927552  Renee J North Lapp  ...       []\n",
              "1315442033507684352             🎃 leh 🎃  ...       []\n",
              "1315442037286678529          john coppa  ...       []\n",
              "1315442040172425216      Reivindicación  ...       []\n",
              "1315442039870324736            rat zone  ...       []\n",
              "...                                 ...  ...      ...\n",
              "1315457129835302914     AnnieMoonIsBlue  ...       []\n",
              "1315457130460327938        Dardo Boggia  ...       []\n",
              "1315457129847889921                Shay  ...       []\n",
              "1315457128472088578           Amy Wolfe  ...       []\n",
              "1315457130997088257          LuizFausto  ...       []\n",
              "\n",
              "[166536 rows x 6 columns]"
            ]
          },
          "metadata": {
            "tags": []
          },
          "execution_count": 14
        }
      ]
    },
    {
      "cell_type": "code",
      "metadata": {
        "colab": {
          "base_uri": "https://localhost:8080/"
        },
        "id": "5DjBhTI_Z_O1",
        "outputId": "96ca634c-550a-4182-e7d4-5fe1caa8431f"
      },
      "source": [
        "hashtags_list_df = df.loc[\n",
        "                       df.hashtags.apply(\n",
        "                           lambda hashtags_list: hashtags_list !=[]\n",
        "                       ),['hashtags']]\n",
        "print(hashtags_list_df)\n"
      ],
      "execution_count": null,
      "outputs": [
        {
          "output_type": "stream",
          "text": [
            "                                        hashtags\n",
            "id                                              \n",
            "1315442036028260353                   [#SidNaaz]\n",
            "1315442038180114434                   [#GodWins]\n",
            "1315442037802627074                   [#COVID19]\n",
            "1315442033264406530       [#WHO, #BelieveTheWHO]\n",
            "1315442035881578496                 [#Scamdemic]\n",
            "...                                          ...\n",
            "1315457121912315904          [#scamdemic, #They]\n",
            "1315457127276785665             [#trumpfailures]\n",
            "1315457126916132870                [#TESTIMONIO]\n",
            "1315457130158329857        [#Broward, #COVID-19]\n",
            "1315457130762317824  [#EnCombateContraElCovid19]\n",
            "\n",
            "[22211 rows x 1 columns]\n"
          ],
          "name": "stdout"
        }
      ]
    },
    {
      "cell_type": "code",
      "metadata": {
        "colab": {
          "base_uri": "https://localhost:8080/"
        },
        "id": "28EZ-m-FZ_Mz",
        "outputId": "89954f56-8691-4657-ef0c-299bef78de55"
      },
      "source": [
        "flattened_hashtags_df = pd.DataFrame(\n",
        "    [hashtag for hashtags_list in hashtags_list_df.hashtags\n",
        "    for hashtag in hashtags_list],\n",
        "    columns=['hashtag'])\n",
        "print(flattened_hashtags_df)"
      ],
      "execution_count": null,
      "outputs": [
        {
          "output_type": "stream",
          "text": [
            "                         hashtag\n",
            "0                       #SidNaaz\n",
            "1                       #GodWins\n",
            "2                       #COVID19\n",
            "3                           #WHO\n",
            "4                 #BelieveTheWHO\n",
            "...                          ...\n",
            "47088             #trumpfailures\n",
            "47089                #TESTIMONIO\n",
            "47090                   #Broward\n",
            "47091                  #COVID-19\n",
            "47092  #EnCombateContraElCovid19\n",
            "\n",
            "[47093 rows x 1 columns]\n"
          ],
          "name": "stdout"
        }
      ]
    },
    {
      "cell_type": "code",
      "metadata": {
        "colab": {
          "base_uri": "https://localhost:8080/"
        },
        "id": "XcIn6rygZ_LM",
        "outputId": "fc64896c-1634-4517-fe33-0f5888dd5fce"
      },
      "source": [
        "# number of unique hashtags\n",
        "flattened_hashtags_df['hashtag'].unique().size\n",
        "print(flattened_hashtags_df)"
      ],
      "execution_count": null,
      "outputs": [
        {
          "output_type": "stream",
          "text": [
            "                         hashtag\n",
            "0                       #SidNaaz\n",
            "1                       #GodWins\n",
            "2                       #COVID19\n",
            "3                           #WHO\n",
            "4                 #BelieveTheWHO\n",
            "...                          ...\n",
            "47088             #trumpfailures\n",
            "47089                #TESTIMONIO\n",
            "47090                   #Broward\n",
            "47091                  #COVID-19\n",
            "47092  #EnCombateContraElCovid19\n",
            "\n",
            "[47093 rows x 1 columns]\n"
          ],
          "name": "stdout"
        }
      ]
    },
    {
      "cell_type": "code",
      "metadata": {
        "colab": {
          "base_uri": "https://localhost:8080/"
        },
        "id": "OES6u8qYZ_JI",
        "outputId": "26ec1028-f3b1-4fe2-fbc1-d5a8e0e1f7a8"
      },
      "source": [
        "# count of appearances of each hashtag\n",
        "popular_hashtags = flattened_hashtags_df.groupby('hashtag').size()\\\n",
        "                                        .reset_index(name='counts')\\\n",
        "                                        .sort_values('counts', ascending=False)\\\n",
        "                                        .reset_index(drop=True)\n",
        "\n",
        "print(popular_hashtags)"
      ],
      "execution_count": null,
      "outputs": [
        {
          "output_type": "stream",
          "text": [
            "             hashtag  counts\n",
            "0           #COVID19    5899\n",
            "1       #coronavirus    1025\n",
            "2           #Covid19     673\n",
            "3             #COVID     630\n",
            "4       #Coronavirus     550\n",
            "...              ...     ...\n",
            "10155     #Oncologia       1\n",
            "10156  #OnceNoticias       1\n",
            "10157      #OnDemand       1\n",
            "10158    #OnAMission       1\n",
            "10159   #zoomclasses       1\n",
            "\n",
            "[10160 rows x 2 columns]\n"
          ],
          "name": "stdout"
        }
      ]
    },
    {
      "cell_type": "code",
      "metadata": {
        "colab": {
          "base_uri": "https://localhost:8080/",
          "height": 298
        },
        "id": "0iy--nQMZ_HE",
        "outputId": "6aa548e5-548e-4575-9431-b1f5b6c47bb5"
      },
      "source": [
        "# number of times each hashtag appears\n",
        "counts = flattened_hashtags_df.groupby(['hashtag']).size()\\\n",
        "                              .reset_index(name='counts')\\\n",
        "                              .counts\n",
        "\n",
        "# define bins for histogram                              \n",
        "my_bins = np.arange(0,counts.max()+2, 5)-0.5\n",
        "\n",
        "# plot histogram of tweet counts\n",
        "plt.figure()\n",
        "plt.hist(counts, bins = my_bins)\n",
        "plt.xlabels = np.arange(1,counts.max()+1, 1)\n",
        "plt.xlabel('hashtag number of appearances')\n",
        "plt.ylabel('frequency')\n",
        "plt.yscale('log', nonposy='clip')\n",
        "plt.hist(counts, color = \"skyblue\")\n",
        "plt.show()"
      ],
      "execution_count": null,
      "outputs": [
        {
          "output_type": "display_data",
          "data": {
            "image/png": "[encoded data removed]",
            "text/plain": [
              "<Figure size 432x288 with 1 Axes>"
            ]
          },
          "metadata": {
            "tags": [],
            "needs_background": "light"
          }
        }
      ]
    },
    {
      "cell_type": "code",
      "metadata": {
        "colab": {
          "base_uri": "https://localhost:8080/"
        },
        "id": "mcptA7RDZ_Fc",
        "outputId": "3a45658e-bef1-4c13-aa88-9a1d04d8513a"
      },
      "source": [
        "# take hashtags which appear at least this amount of times\n",
        "min_appearance = 10\n",
        "# find popular hashtags - make into python set for efficiency\n",
        "popular_hashtags_set = set(popular_hashtags[\n",
        "                           popular_hashtags.counts>=min_appearance\n",
        "                           ]['hashtag'])\n",
        "print(popular_hashtags_set)"
      ],
      "execution_count": null,
      "outputs": [
        {
          "output_type": "stream",
          "text": [
            "{'#POTUS', '#MAGA2020LandslideVictory', '#photooftheday', '#VoteBlueDownBallot', '#VoteBidenHarris2020', '#China', '#trump2020', '#HongKong', '#VoteOutEveryRepublican', '#DitchMitch', '#staysafe', '#Corona', '#Atenci', '#IOWA', '#Plandemia', '#G1', '#ElPeorGobiernoDeLaHistoria', '#COVIDIOTS', '#virus', '#TrumpCrimeFamily', '#Acarigua', '#SupportIA', '#AmyConeyBa', '#EndPoliceBrutalityinNigeria', '#JUNGKOOK', '#BREAKING', '#loveorhost', '#istandwit', '#TeamKentucky', '#NBA', '#coli', '#EnComba', '#WorldMentalHealthDay', '#EndAsuuStrikeNow', '#StayHome', '#KAG', '#corona', '#fantasy', '#NBAFinals', '#FactsMatter', '#Australia', '#StopAliyev', '#COVID', '#SiempreM', '#EEUU', '#TyphoidMary', '#CandaceOwens', '#EnCombateContraE', '#LaIslaDeLasTentanciones6', '#Democrats', '#Protecci', '#travel', '#COVID19', '#TrumpSuperSpreader', '#France', '#UnitedStates', '#Francia', '#FartingBigfoot', '#vaccines', '#OpsYustisiPoldaSulsel', '#EnVivo', '#ChavismoV', '#AI', '#TaatiProkesHindariKerumunan', '#SaludMental', '#stayhome', '#KitaJagaKita', '#COVID19Vic', '#BidenHarris', '#Election2020', '#DemVoice1', '#BuenasTardes', '#ReliefNow', '#lockdowns', '#TrumpThreatensAmerica', '#Peru', '#islatentaciones', '#GOPHypocrisy', '#SocialDistancing', '#bookworms', '#ENCiencia', '#javascript', '#EnCombateContraElCovid1', '#Nacional', '#agenda', '#togetherwecan', '#UK', '#EnCombateCont', '#ENGBEL', '#ThinkBIGSundayWithMarsha', '#Colombia', '#SarsCov2', '#nurseryrhyme', '#News', '#Fauci', '#Qu', '#Per', '#ClimateChange', '#WashYourHands', '#SuperSpreaderTrump', '#JuntosContraElCovid19', '#BLM', '#CovidCaughtTrump', '#KapoldaSulsel', '#abpoli', '#COVID19Victoria', '#scottatlas', '#Peace', '#news', '#SuperM', '#Wuhan', '#KitaTeguhKitaMenang', '#FoxNews', '#Avance', '#SuperSpreader', '#VOTE', '#CNNSOTU', '#Nicaragua', '#Liberal', '#HaceMinutos', '#love', '#Educaciondecalidad', '#SanctionTurkey', '#Naguanagua', '#Covid_19', '#Nigeria', '#KAG2020', '#Ecuador', '#scamdemic', '#smcanalytics', '#TrumpPence2020', '#Cuba', '#COVID1', '#Berl', '#TrumpVirusDeathToll211K', '#Pence', '#VoteBlue2020', '#FrenchOpen', '#NFL', '#Netanyahu', '#CoronaVirus', '#DallasCowboys', '#coviddata', '#Portaforlio', '#business', '#MAGAts', '#imisstravelling', '#MiHistoriaCovid', '#Biden2020', '#EnVictoriosaEsperanza', '#lockdown', '#MedicareForAll', '#Trump', '#MAGA2020', '#AWANI745', '#Educacion', '#EnCombateContra', '#pandemic', '#Ccot', '#DayOfTheGirl', '#TrumpKnew', '#TrumpIsALoser', '#RememberinNovember', '#TrumpLies', '#USA', '#Venezuela', '#EnVideo', '#ORLANDOFLORIDA', '#CovidScamdemic', '#Magallanes', '#Plandemic2020', '#CoronavirusPandemic', '#MorningJoe', '#VoteEarly', '#KillerCuomo', '#FitzpatrickFAILEDus', '#EndPoliceBrutalityInNigeria', '#LaAmbEsSeguridad', '#MaskupKy', '#StayAtHome', '#Polyn', '#CovidFest2020', '#PA01', '#Covid19', '#SCOTUS', '#ChinaVirus', '#CowboysNation', '#ArtsakhRepublic', '#Reportaje', '#DumpTrump', '#Lockdown', '#SupremeCourt', '#happy', '#socialdistancing', '#mask', '#VoteJOE', '#PlandemicHoax', '#GraciasPorCuidarnos', '#JoeWillLeadUs', '#Navajo', '#BeTheChange', '#SarsMustGo', '#AsiLoDijo', '#TrumpFailedAmerica', '#springst', '#ReadMoreBooks', '#Thanksgiving', '#Opini', '#PedoJoeBiden', '#Trump2020', '#writerslift', '#NewZealand', '#SundayMotivation', '#GWG', '#Semicolon', '#cashappfriday', '#Fritch', '#MasksOffAmerica', '#EnCombateContraElCovid19', '#AWANInews', '#ReformNigeriaPolice', '#Oaxaca', '#Gregabbott', '#COvId19', '#IVSS', '#wearamask', '#TrumpIsASuperSpreader', '#COV', '#GoBolsonaroMundial', '#furry', '#FactsNotFear', '#NationalComingOutDay', '#fashion', '#VoteBlueToSaveAmerica', '#VoteTrumpOut', '#TrumpLiedPeopleDied', '#ableg', '#Cesar', '#Wisdom', '#RolandGarros', '#FoodSecurity', '#thatisall', '#DiaDeLaNina', '#AmericaOrTrump', '#Latinus', '#SARSCoV2', '#lawancovid19', '#They', '#COVID__19', '#SoyArrupe', '#Scamdemic', '#Indiana', '#cashgem', '#GOPCorruptionOverCountry', '#SarsMustGoNow', '#GlobalGoals', '#India', '#Covid-19', '#BidenHarrisLandslide2020', '#LindseyMustGo', '#AusPol', '#ChildrenLit', '#Delhi', '#Halloween', '#ENDSARS', '#Covid', '#Blexit', '#StaySafe', '#ZODI33DIGITAL', '#covid19', '#Pandemic', '#Republican', '#TrumpIsACoward', '#IndahnyaBerbagi', '#ZondagMetLubach', '#Florida', '#QuarantineLife', '#Video', '#NewYork', '#bcpoli', '#health', '#HCQ', '#StopAzerbaijaniAggression', '#Democrat', '#amd09covidjoem', '#WorldHealthOrganization', '#covid', '#pandemia', '#Ahora', '#RunLikeHell', '#LongCovid', '#Iran', '#WearAMask', '#Noticias', '#SomosCuba', '#COVIDIOT', '#KamalaHarris', '#rock', '#Forecast', '#SoyUnViral', '#TrumpLiedAmericansDied', '#TogetherKy', '#RudyPaLaAsamblea', '#EndA', '#andrewcuomo', '#Rechazo', '#IndieAuthors', '#Biblia', '#BountyGate', '#Biden', '#TheWall', '#Boris', '#DayoftheGirl', '#American', '#PinkFloyd', '#Tech', '#TESTIMONIO', '#ConferenciaDePrensa', '#Chile', '#COVI', '#flu', '#Aragua', '#SteveBannon', '#SundayThoughts', '#EnsSARS', '#JoeBiden', '#ATENCI', '#amazon', '#Americans', '#Internacional', '#LaCornisa', '#TrumpIsNotWell', '#LloratonMamerta', '#coro', '#WakeUpAmerica', '#PautaLibre', '#TrumpVirus', '#GOPDeathCult', '#DonaldTrump', '#TrumpIsPatientZero', '#CCP', '#Coronav', '#Wa', '#media', '#CDMX', '#SinfoniasCelestiales', '#trump', '#ModoActivo', '#TrumpCovid', '#ENVIDEO', '#masks', '#SDG4', '#photography', '#TrumpIsANationalDisgrace', '#ONEV1', '#MAGA', '#IndiaFightsCorona', '#AlMomento', '#VoteBlue', '#author', '#WearADamnMask', '#QuedateEnCasa', '#AHORA', '#stayathome', '#RafaelNadal', '#Alerta', '#maga', '#Arizona', '#TrumpHasCovid', '#LiarInChief', '#StimulusPackage', '#Regeneraci', '#EnFotos', '#Twitter', '#LoM', '#ProsecuteThemAll', '#Israel', '#MIvDC', '#EndASUUStrike', '#Harris', '#LaIslaDeLasTentaciones6', '#auspol', '#CCPChina', '#Pennsylvania', '#healthcare', '#ACA', '#AMJoy', '#art', '#GOPSuperSpreaders', '#life', '#ModiFailsIndia', '#AldensReality', '#SalvarElAlmaHastaDelUltimoHombre', '#FakeNews', '#TrumpForPrison2020', '#GOP', '#MoscowMitch', '#Titans', '#TraitorTrump', '#Dpcm', '#VoteHimOut', '#NationsLeague', '#OMS', '#Texas', '#GobiernoDeInutiles', '#URGENTE', '#MLHU', '#TrumpIsAFailure', '#vote', '#SheepWearMasks', '#freedom', '#Jesus', '#ConfirmationHearings', '#ChavismoVi', '#Pland', '#Regeneron', '#Mundo', '#Sweden', '#DeathSantis', '#OpenAmerica', '#TrumpLiesPeopleDie', '#TrumpLied200KDied', '#InfoIAIM', '#COVID_19', '#London', '#Boyac', '#tiktok', '#ChavismoVictor', '#Mexico', '#batalla', '#BidenHarris2020ToSaveAmerica', '#TrumpVirusDeathToll215K', '#VoteBlueToEndThisNightmare', '#COVID-19', '#ElPa', '#RepublicansForBiden', '#AmyConeyBarrett', '#Resistance', '#quarantinelife', '#CO', '#Nadal', '#Covid19UK', '#Taiwan', '#TrumpIsARacist', '#MarthaMcSally', '#Masks', '#cdnpoli', '#Nacionales', '#wiright', '#ecommerce', '#Health', '#TrumpKnewAndDidNothing', '#SmartNews', '#CDC', '#EndSARS', '#BidenWillCrushCovid', '#OneCommunity', '#military', '#mascherina', '#ScottyFromMarketing', '#SuperMxWHO', '#Desantis', '#ServicioP', '#FelizDomingo', '#SantaFe', '#LO', '#Science', '#LakeShow', '#ChurchillShow', '#ArtsakhStrong', '#melbournelockdown', '#Truth', '#PictureBooks', '#Vote', '#America', '#SARSMUSTEND', '#CCPVirus', '#EnCombateC', '#ToqueDeQueda', '#ChinaLiedPeopleDied', '#VoteRedToSaveAmerica', '#poverty', '#MitchMcConnell', '#VoteHimOut2020', '#Canada', '#WHO', '#ReporteCOVID19', '#FoxAndFriends', '#GreatBarringtonDeclaration', '#Ontario', '#Profecias', '#UnaFinalQueNoEsNormal', '#LiberalismIsAMentalDisorder', '#WhatImPassionateAbout', '#Ent', '#EsNoticia', '#YouPromiseToMarryMe', '#RicardoClaurePe', '#Informaci', '#Argentina', '#covidvislualizations', '#disability', '#LincolnProject', '#TrumpVirusDeathToll275K', '#nude', '#VoteBidenHarris', '#Salud', '#StopErdogan', '#MaskUp', '#MentalHealth', '#ChineseVirus', '#HapusCOVID19', '#Imperdible', '#Johncornyn', '#forgotten80s', '#idolssa', '#RecognizeArtsakh', '#BookBoost', '#AH1N1', '#Kentucky', '#Trump2020LandslideVictory', '#vaccine', '#CNN', '#JoniErnst', '#TeamJoe', '#Coronavirus', '#family', '#WalkAway', '#CanalCaribe', '#BlackLivesMatter', '#QEPD', '#HugoArana', '#FreeRealityWinnerNow', '#BreakingNews', '#BidenHarris2020', '#MustRead', '#bced', '#GOPComplicitTraitors', '#Blood', '#VenezolanosVaradosEnColombia', '#coronavirus', '#nzpol', '#Innovacion', '#GOPBetrayedAmerica'}\n"
          ],
          "name": "stdout"
        }
      ]
    },
    {
      "cell_type": "code",
      "metadata": {
        "colab": {
          "base_uri": "https://localhost:8080/"
        },
        "id": "hvLuIvaWe3pe",
        "outputId": "b48bb96a-d935-41c1-98e4-101e585779aa"
      },
      "source": [
        "# make a new column with only the popular hashtags\n",
        "hashtags_list_df['popular_hashtags'] = hashtags_list_df.hashtags.apply(\n",
        "            lambda hashtag_list: [hashtag for hashtag in hashtag_list\n",
        "                                  if hashtag in popular_hashtags_set])\n",
        "# drop rows without popular hashtag\n",
        "popular_hashtags_list_df = hashtags_list_df.loc[\n",
        "            hashtags_list_df.popular_hashtags.apply(lambda hashtag_list: hashtag_list !=[])]\n",
        "\n",
        "print(popular_hashtags_list_df)"
      ],
      "execution_count": null,
      "outputs": [
        {
          "output_type": "stream",
          "text": [
            "                                                              hashtags             popular_hashtags\n",
            "id                                                                                                 \n",
            "1315442037802627074                                         [#COVID19]                   [#COVID19]\n",
            "1315442033264406530                             [#WHO, #BelieveTheWHO]                       [#WHO]\n",
            "1315442035881578496                                       [#Scamdemic]                 [#Scamdemic]\n",
            "1315442032861564928                                         [#COVID19]                   [#COVID19]\n",
            "1315442033851543552                                        [#BREAKING]                  [#BREAKING]\n",
            "...                                                                ...                          ...\n",
            "1315457125016121345  [#BolsonaroOrgulhaOBrasil, #Bolsonaro2022, #CO...                   [#COVID19]\n",
            "1315457121912315904                                [#scamdemic, #They]          [#scamdemic, #They]\n",
            "1315457126916132870                                      [#TESTIMONIO]                [#TESTIMONIO]\n",
            "1315457130158329857                              [#Broward, #COVID-19]                  [#COVID-19]\n",
            "1315457130762317824                        [#EnCombateContraElCovid19]  [#EnCombateContraElCovid19]\n",
            "\n",
            "[17627 rows x 2 columns]\n"
          ],
          "name": "stdout"
        }
      ]
    },
    {
      "cell_type": "code",
      "metadata": {
        "colab": {
          "base_uri": "https://localhost:8080/"
        },
        "id": "JclJ-O9Ce3mC",
        "outputId": "9e4de0ca-2ef0-4a24-95f3-69da70bc072c"
      },
      "source": [
        "# make new dataframe\n",
        "hashtag_vector_df = popular_hashtags_list_df.loc[:, ['popular_hashtags']]\n",
        "\n",
        "for hashtag in popular_hashtags_set:\n",
        "    # make columns to encode presence of hashtags\n",
        "    hashtag_vector_df['{}'.format(hashtag)] = hashtag_vector_df.popular_hashtags.apply(\n",
        "        lambda hashtag_list: int(hashtag in hashtag_list))\n",
        "\n",
        "print(hashtag_vector_df)"
      ],
      "execution_count": null,
      "outputs": [
        {
          "output_type": "stream",
          "text": [
            "                                popular_hashtags  ...  #GOPBetrayedAmerica\n",
            "id                                                ...                     \n",
            "1315442037802627074                   [#COVID19]  ...                    0\n",
            "1315442033264406530                       [#WHO]  ...                    0\n",
            "1315442035881578496                 [#Scamdemic]  ...                    0\n",
            "1315442032861564928                   [#COVID19]  ...                    0\n",
            "1315442033851543552                  [#BREAKING]  ...                    0\n",
            "...                                          ...  ...                  ...\n",
            "1315457125016121345                   [#COVID19]  ...                    0\n",
            "1315457121912315904          [#scamdemic, #They]  ...                    0\n",
            "1315457126916132870                [#TESTIMONIO]  ...                    0\n",
            "1315457130158329857                  [#COVID-19]  ...                    0\n",
            "1315457130762317824  [#EnCombateContraElCovid19]  ...                    0\n",
            "\n",
            "[17627 rows x 545 columns]\n"
          ],
          "name": "stdout"
        }
      ]
    },
    {
      "cell_type": "code",
      "metadata": {
        "colab": {
          "base_uri": "https://localhost:8080/"
        },
        "id": "j5_VryyIe3ez",
        "outputId": "68f934f9-5b6e-470d-9119-b9be62c06f66"
      },
      "source": [
        "import seaborn as sn\n",
        "import matplotlib.pyplot as plt\n",
        "\n",
        "hashtag_matrix = hashtag_vector_df.drop('popular_hashtags', axis=1)\n",
        "\n",
        "# calculate the correlation matrix\n",
        "correlations = hashtag_matrix.corr()\n",
        "print (correlations)\n",
        "# # plot the correlation matrix\n",
        "# plt.figure(figsize=(10,10))\n",
        "# sns.heatmap(corrleations,\n",
        "#     cmap='RdBu',\n",
        "#     vmin=-1,\n",
        "#     vmax=1,\n",
        "#     square = True,\n",
        "#     cbar_kws={'label':'correlation'})\n",
        "# plt.show()"
      ],
      "execution_count": null,
      "outputs": [
        {
          "output_type": "stream",
          "text": [
            "                                 #POTUS  ...  #GOPBetrayedAmerica\n",
            "#POTUS                         1.000000  ...            -0.000901\n",
            "#MAGA2020LandslideVictory     -0.000950  ...            -0.001078\n",
            "#photooftheday                -0.000705  ...            -0.000799\n",
            "#VoteBlueDownBallot           -0.000736  ...            -0.000834\n",
            "#VoteBidenHarris2020          -0.001328  ...            -0.001506\n",
            "...                                 ...  ...                  ...\n",
            "#VenezolanosVaradosEnColombia -0.001019  ...            -0.001156\n",
            "#coronavirus                  -0.006991  ...            -0.007928\n",
            "#nzpol                        -0.000705  ...            -0.000799\n",
            "#Innovacion                   -0.000974  ...            -0.001104\n",
            "#GOPBetrayedAmerica           -0.000901  ...             1.000000\n",
            "\n",
            "[544 rows x 544 columns]\n"
          ],
          "name": "stdout"
        }
      ]
    },
    {
      "cell_type": "code",
      "metadata": {
        "id": "BggCLSbKe3bA"
      },
      "source": [
        "# import seaborn as sn\n",
        "# import matplotlib.pyplot as plt\n",
        "\n",
        "# sn.heatmap(correlations, annot=True)\n",
        "# plt.show()"
      ],
      "execution_count": null,
      "outputs": []
    },
    {
      "cell_type": "code",
      "metadata": {
        "id": "DU2EE_-8e3Y0"
      },
      "source": [
        "import nltk\n",
        "from nltk.tokenize import RegexpTokenizer\n",
        "from nltk.corpus import stopwords"
      ],
      "execution_count": null,
      "outputs": []
    },
    {
      "cell_type": "code",
      "metadata": {
        "id": "_vzpoIj2Z_DJ"
      },
      "source": [
        "def remove_links(text):\n",
        "    '''Takes a string and removes web links from it'''\n",
        "    text = re.sub(r'http\\S+', '', text) # remove http links\n",
        "    text = re.sub(r'bit.ly/\\S+', '', text) # rempve bitly links\n",
        "    text = text.strip('[link]') # remove [links]\n",
        "    return text\n",
        "\n",
        "def remove_users(text):\n",
        "    '''Takes a string and removes retweet and @user information'''\n",
        "    text = re.sub('(RT\\s@[A-Za-z]+[A-Za-z0-9-_]+)', '', text) # remove retweet\n",
        "    text = re.sub('(@[A-Za-z]+[A-Za-z0-9-_]+)', '', text) # remove tweeted at\n",
        "    return text"
      ],
      "execution_count": null,
      "outputs": []
    },
    {
      "cell_type": "code",
      "metadata": {
        "colab": {
          "base_uri": "https://localhost:8080/"
        },
        "id": "IrDi6ZOliqeq",
        "outputId": "a8d1b061-365c-41c6-c546-850dceb5cd64"
      },
      "source": [
        "import nltk\n",
        "nltk.download('stopwords')"
      ],
      "execution_count": null,
      "outputs": [
        {
          "output_type": "stream",
          "text": [
            "[nltk_data] Downloading package stopwords to /root/nltk_data...\n",
            "[nltk_data]   Package stopwords is already up-to-date!\n"
          ],
          "name": "stdout"
        },
        {
          "output_type": "execute_result",
          "data": {
            "text/plain": [
              "True"
            ]
          },
          "metadata": {
            "tags": []
          },
          "execution_count": 5
        }
      ]
    },
    {
      "cell_type": "code",
      "metadata": {
        "id": "3e0hRe_DZ_B9"
      },
      "source": [
        "my_stopwords = nltk.corpus.stopwords.words('english')\n",
        "word_rooter = nltk.stem.snowball.PorterStemmer(ignore_stopwords=False).stem\n",
        "my_punctuation = '!\"$%&\\'()*+,-./:;<=>?[\\\\]^_`{|}~•@'\n",
        "\n",
        "# cleaning master function\n",
        "def clean_tweet(text, bigrams=False):\n",
        "    text = remove_users(text)\n",
        "    text = remove_links(text)\n",
        "    text = text.lower() # lower case\n",
        "    text = re.sub('['+my_punctuation + ']+', ' ', text) # strip punctuation\n",
        "    text = re.sub('\\s+', ' ', text) #remove double spacing\n",
        "    text = re.sub('([0-9]+)', '', text) # remove numbers\n",
        "    tweet_token_list = [word for word in text.split(' ')\n",
        "                            if word not in my_stopwords] # remove stopwords\n",
        "\n",
        "    tweet_token_list = [word_rooter(word) if '#' not in word else word\n",
        "                        for word in tweet_token_list] # apply word rooter\n",
        "    if bigrams:\n",
        "        tweet_token_list = tweet_token_list+[tweet_token_list[i]+'_'+tweet_token_list[i+1]\n",
        "                                            for i in range(len(tweet_token_list)-1)]\n",
        "    tweet = ' '.join(tweet_token_list)\n",
        "    return tweet"
      ],
      "execution_count": null,
      "outputs": []
    },
    {
      "cell_type": "code",
      "metadata": {
        "colab": {
          "base_uri": "https://localhost:8080/",
          "height": 543
        },
        "id": "NlQVO6XdZ_A4",
        "outputId": "7896c17a-3ae8-455f-bcf1-4924b522f1a1"
      },
      "source": [
        "lda['clean_tweet'] = lda.text.apply(clean_tweet)\n",
        "lda.head(10)"
      ],
      "execution_count": null,
      "outputs": [
        {
          "output_type": "execute_result",
          "data": {
            "text/html": [
              "<div>\n",
              "<style scoped>\n",
              "    .dataframe tbody tr th:only-of-type {\n",
              "        vertical-align: middle;\n",
              "    }\n",
              "\n",
              "    .dataframe tbody tr th {\n",
              "        vertical-align: top;\n",
              "    }\n",
              "\n",
              "    .dataframe thead th {\n",
              "        text-align: right;\n",
              "    }\n",
              "</style>\n",
              "<table border=\"1\" class=\"dataframe\">\n",
              "  <thead>\n",
              "    <tr style=\"text-align: right;\">\n",
              "      <th></th>\n",
              "      <th>user_name</th>\n",
              "      <th>text</th>\n",
              "      <th>clean_tweet</th>\n",
              "    </tr>\n",
              "    <tr>\n",
              "      <th>id</th>\n",
              "      <th></th>\n",
              "      <th></th>\n",
              "      <th></th>\n",
              "    </tr>\n",
              "  </thead>\n",
              "  <tbody>\n",
              "    <tr>\n",
              "      <th>1315442032651927552</th>\n",
              "      <td>Renee J North Lapp</td>\n",
              "      <td>@BalutSmithy @StephenJohn59 @jaketapper @kaitl...</td>\n",
              "      <td>seem fauci also blame mishandl pandem birx pr...</td>\n",
              "    </tr>\n",
              "    <tr>\n",
              "      <th>1315442033507684352</th>\n",
              "      <td>🎃 leh 🎃</td>\n",
              "      <td>RT @dougraz: todo dia pensando será se eu ja p...</td>\n",
              "      <td>todo dia pensando será se eu ja peguei covid ...</td>\n",
              "    </tr>\n",
              "    <tr>\n",
              "      <th>1315442037286678529</th>\n",
              "      <td>john coppa</td>\n",
              "      <td>RT @PetraCEsser1: @HSRetoucher Thank you. I am...</td>\n",
              "      <td>thank speak tongu angel bring chip blood brai...</td>\n",
              "    </tr>\n",
              "    <tr>\n",
              "      <th>1315442040172425216</th>\n",
              "      <td>Reivindicación</td>\n",
              "      <td>@PedroAzzola https://t.co/RxL0DAaQaI</td>\n",
              "      <td></td>\n",
              "    </tr>\n",
              "    <tr>\n",
              "      <th>1315442039870324736</th>\n",
              "      <td>rat zone</td>\n",
              "      <td>*corona liked this post* https://t.co/3mAPNWNAfK</td>\n",
              "      <td>corona like post</td>\n",
              "    </tr>\n",
              "    <tr>\n",
              "      <th>1315442032350027780</th>\n",
              "      <td>ᴮᴱ#LAKERS 2020 NBA Champions #Titans (5-0)</td>\n",
              "      <td>https://t.co/VNNyjhzXxt https://t.co/DRIUE2K2VV</td>\n",
              "      <td></td>\n",
              "    </tr>\n",
              "    <tr>\n",
              "      <th>1315442036028260353</th>\n",
              "      <td>tejakshi shetty</td>\n",
              "      <td>RT @SidNaaz13Dstny: Points\\n\\n1. Salman Sir #S...</td>\n",
              "      <td>point  salman sir #sidnaaz shipper h❤️  salma...</td>\n",
              "    </tr>\n",
              "    <tr>\n",
              "      <th>1315442038142390274</th>\n",
              "      <td>Angel Duarte Hurtado</td>\n",
              "      <td>RT @AristeguiOnline: Paga México más de 180 mi...</td>\n",
              "      <td>paga méxico má de  millon de dl para garantiz...</td>\n",
              "    </tr>\n",
              "    <tr>\n",
              "      <th>1315442033331507203</th>\n",
              "      <td>LoisR</td>\n",
              "      <td>RT @CLewandowski_: WHO now advising against lo...</td>\n",
              "      <td>advis lockdown disproportion hurt poor—which ...</td>\n",
              "    </tr>\n",
              "    <tr>\n",
              "      <th>1315442037685194755</th>\n",
              "      <td>Jen Hensley</td>\n",
              "      <td>RT @RBReich: So let me get this straight: wear...</td>\n",
              "      <td>let get straight wear mask save live pandem p...</td>\n",
              "    </tr>\n",
              "  </tbody>\n",
              "</table>\n",
              "</div>"
            ],
            "text/plain": [
              "                                                      user_name  ...                                        clean_tweet\n",
              "id                                                               ...                                                   \n",
              "1315442032651927552                          Renee J North Lapp  ...   seem fauci also blame mishandl pandem birx pr...\n",
              "1315442033507684352                                     🎃 leh 🎃  ...   todo dia pensando será se eu ja peguei covid ...\n",
              "1315442037286678529                                  john coppa  ...   thank speak tongu angel bring chip blood brai...\n",
              "1315442040172425216                              Reivindicación  ...                                                   \n",
              "1315442039870324736                                    rat zone  ...                                  corona like post \n",
              "1315442032350027780  ᴮᴱ#LAKERS 2020 NBA Champions #Titans (5-0)  ...                                                   \n",
              "1315442036028260353                             tejakshi shetty  ...   point  salman sir #sidnaaz shipper h❤️  salma...\n",
              "1315442038142390274                        Angel Duarte Hurtado  ...   paga méxico má de  millon de dl para garantiz...\n",
              "1315442033331507203                                       LoisR  ...   advis lockdown disproportion hurt poor—which ...\n",
              "1315442037685194755                                 Jen Hensley  ...   let get straight wear mask save live pandem p...\n",
              "\n",
              "[10 rows x 3 columns]"
            ]
          },
          "metadata": {
            "tags": []
          },
          "execution_count": 7
        }
      ]
    },
    {
      "cell_type": "code",
      "metadata": {
        "id": "P7YYHH64Z-7E"
      },
      "source": [
        "# Applying Topic Modelling\n",
        "from sklearn.feature_extraction.text import CountVectorizer\n",
        "\n",
        "# the vectorizer object will be used to transform text to vector form\n",
        "vectorizer = CountVectorizer(max_df=0.9, min_df=25, token_pattern='\\w+|\\$[\\d\\.]+|\\S+')\n",
        "\n",
        "# apply transformation\n",
        "tf = vectorizer.fit_transform(lda['clean_tweet']).toarray()\n",
        "\n",
        "# tf_feature_names tells us what word each column in the matric represents\n",
        "tf_feature_names = vectorizer.get_feature_names()\n",
        "# tf_feature_names"
      ],
      "execution_count": null,
      "outputs": []
    },
    {
      "cell_type": "code",
      "metadata": {
        "id": "Ujt-K251jYr6"
      },
      "source": [
        "from sklearn.decomposition import LatentDirichletAllocation\n",
        "\n",
        "number_of_topics = 10\n",
        "\n",
        "model = LatentDirichletAllocation(n_components=number_of_topics, random_state=0)"
      ],
      "execution_count": null,
      "outputs": []
    },
    {
      "cell_type": "code",
      "metadata": {
        "colab": {
          "base_uri": "https://localhost:8080/"
        },
        "id": "MOaJvkDTjYog",
        "outputId": "551abea4-a815-47cf-ce59-9f29df15b883"
      },
      "source": [
        "model.fit(tf)"
      ],
      "execution_count": null,
      "outputs": [
        {
          "output_type": "execute_result",
          "data": {
            "text/plain": [
              "LatentDirichletAllocation(batch_size=128, doc_topic_prior=None,\n",
              "                          evaluate_every=-1, learning_decay=0.7,\n",
              "                          learning_method='batch', learning_offset=10.0,\n",
              "                          max_doc_update_iter=100, max_iter=10,\n",
              "                          mean_change_tol=0.001, n_components=10, n_jobs=None,\n",
              "                          perp_tol=0.1, random_state=0, topic_word_prior=None,\n",
              "                          total_samples=1000000.0, verbose=0)"
            ]
          },
          "metadata": {
            "tags": []
          },
          "execution_count": 10
        }
      ]
    },
    {
      "cell_type": "code",
      "metadata": {
        "id": "p3Q4XSUmjYnA"
      },
      "source": [
        "def display_topics(model, feature_names, no_top_words):\n",
        "    topic_dict = {}\n",
        "    for topic_idx, topic in enumerate(model.components_):\n",
        "        topic_dict[\"Topic %d words\" % (topic_idx)]= ['{}'.format(feature_names[i])\n",
        "                        for i in topic.argsort()[:-no_top_words - 1:-1]]\n",
        "        topic_dict[\"Topic %d weights\" % (topic_idx)]= ['{:.1f}'.format(topic[i])\n",
        "                        for i in topic.argsort()[:-no_top_words - 1:-1]]\n",
        "    return pd.DataFrame(topic_dict)"
      ],
      "execution_count": null,
      "outputs": []
    },
    {
      "cell_type": "code",
      "metadata": {
        "colab": {
          "base_uri": "https://localhost:8080/",
          "height": 413
        },
        "id": "fO3Bz_ZsjYkL",
        "outputId": "2b0a5cf3-2da0-493a-d5e6-e074903f75b5"
      },
      "source": [
        "no_top_words = 10\n",
        "display_topics(model, tf_feature_names, no_top_words)"
      ],
      "execution_count": null,
      "outputs": [
        {
          "output_type": "execute_result",
          "data": {
            "text/html": [
              "<div>\n",
              "<style scoped>\n",
              "    .dataframe tbody tr th:only-of-type {\n",
              "        vertical-align: middle;\n",
              "    }\n",
              "\n",
              "    .dataframe tbody tr th {\n",
              "        vertical-align: top;\n",
              "    }\n",
              "\n",
              "    .dataframe thead th {\n",
              "        text-align: right;\n",
              "    }\n",
              "</style>\n",
              "<table border=\"1\" class=\"dataframe\">\n",
              "  <thead>\n",
              "    <tr style=\"text-align: right;\">\n",
              "      <th></th>\n",
              "      <th>Topic 0 words</th>\n",
              "      <th>Topic 0 weights</th>\n",
              "      <th>Topic 1 words</th>\n",
              "      <th>Topic 1 weights</th>\n",
              "      <th>Topic 2 words</th>\n",
              "      <th>Topic 2 weights</th>\n",
              "      <th>Topic 3 words</th>\n",
              "      <th>Topic 3 weights</th>\n",
              "      <th>Topic 4 words</th>\n",
              "      <th>Topic 4 weights</th>\n",
              "      <th>Topic 5 words</th>\n",
              "      <th>Topic 5 weights</th>\n",
              "      <th>Topic 6 words</th>\n",
              "      <th>Topic 6 weights</th>\n",
              "      <th>Topic 7 words</th>\n",
              "      <th>Topic 7 weights</th>\n",
              "      <th>Topic 8 words</th>\n",
              "      <th>Topic 8 weights</th>\n",
              "      <th>Topic 9 words</th>\n",
              "      <th>Topic 9 weights</th>\n",
              "    </tr>\n",
              "  </thead>\n",
              "  <tbody>\n",
              "    <tr>\n",
              "      <th>0</th>\n",
              "      <td>…</td>\n",
              "      <td>8684.6</td>\n",
              "      <td>pandem</td>\n",
              "      <td>7489.9</td>\n",
              "      <td>…</td>\n",
              "      <td>5993.9</td>\n",
              "      <td>…</td>\n",
              "      <td>4205.1</td>\n",
              "      <td>…</td>\n",
              "      <td>13692.0</td>\n",
              "      <td>…</td>\n",
              "      <td>4977.5</td>\n",
              "      <td>de</td>\n",
              "      <td>19647.1</td>\n",
              "      <td>covid</td>\n",
              "      <td>10327.5</td>\n",
              "      <td>…</td>\n",
              "      <td>13180.9</td>\n",
              "      <td>…</td>\n",
              "      <td>12499.0</td>\n",
              "    </tr>\n",
              "    <tr>\n",
              "      <th>1</th>\n",
              "      <td>de</td>\n",
              "      <td>5287.7</td>\n",
              "      <td>go</td>\n",
              "      <td>5215.8</td>\n",
              "      <td>lockdown</td>\n",
              "      <td>2808.7</td>\n",
              "      <td>trump</td>\n",
              "      <td>3540.0</td>\n",
              "      <td>covid</td>\n",
              "      <td>13658.5</td>\n",
              "      <td>de</td>\n",
              "      <td>2061.3</td>\n",
              "      <td>la</td>\n",
              "      <td>12528.0</td>\n",
              "      <td>…</td>\n",
              "      <td>8515.6</td>\n",
              "      <td>covid</td>\n",
              "      <td>9242.6</td>\n",
              "      <td>mask</td>\n",
              "      <td>8518.4</td>\n",
              "    </tr>\n",
              "    <tr>\n",
              "      <th>2</th>\n",
              "      <td>comment</td>\n",
              "      <td>3803.1</td>\n",
              "      <td>covid</td>\n",
              "      <td>3730.4</td>\n",
              "      <td>end</td>\n",
              "      <td>1752.9</td>\n",
              "      <td>fauci</td>\n",
              "      <td>3324.2</td>\n",
              "      <td>’</td>\n",
              "      <td>5297.1</td>\n",
              "      <td>lockdown</td>\n",
              "      <td>1882.5</td>\n",
              "      <td>el</td>\n",
              "      <td>10200.0</td>\n",
              "      <td>new</td>\n",
              "      <td>3406.1</td>\n",
              "      <td>trump</td>\n",
              "      <td>7783.7</td>\n",
              "      <td>wear</td>\n",
              "      <td>8320.0</td>\n",
              "    </tr>\n",
              "    <tr>\n",
              "      <th>3</th>\n",
              "      <td>amp</td>\n",
              "      <td>3731.8</td>\n",
              "      <td>y</td>\n",
              "      <td>3490.1</td>\n",
              "      <td>la</td>\n",
              "      <td>1617.4</td>\n",
              "      <td>respons</td>\n",
              "      <td>2727.1</td>\n",
              "      <td>’t</td>\n",
              "      <td>4764.4</td>\n",
              "      <td>covid</td>\n",
              "      <td>1851.8</td>\n",
              "      <td>covid</td>\n",
              "      <td>9239.6</td>\n",
              "      <td>trump</td>\n",
              "      <td>3403.1</td>\n",
              "      <td>’</td>\n",
              "      <td>7099.2</td>\n",
              "      <td>live</td>\n",
              "      <td>6440.9</td>\n",
              "    </tr>\n",
              "    <tr>\n",
              "      <th>4</th>\n",
              "      <td>en</td>\n",
              "      <td>3725.1</td>\n",
              "      <td>hear</td>\n",
              "      <td>3462.0</td>\n",
              "      <td>call</td>\n",
              "      <td>1452.4</td>\n",
              "      <td>say</td>\n",
              "      <td>2693.7</td>\n",
              "      <td>peopl</td>\n",
              "      <td>3890.5</td>\n",
              "      <td>e</td>\n",
              "      <td>1712.1</td>\n",
              "      <td>…</td>\n",
              "      <td>8948.0</td>\n",
              "      <td>american</td>\n",
              "      <td>3316.3</td>\n",
              "      <td>twitter</td>\n",
              "      <td>3011.7</td>\n",
              "      <td>get</td>\n",
              "      <td>5534.1</td>\n",
              "    </tr>\n",
              "    <tr>\n",
              "      <th>5</th>\n",
              "      <td>campaign</td>\n",
              "      <td>3665.6</td>\n",
              "      <td>’all</td>\n",
              "      <td>3364.1</td>\n",
              "      <td>cdc</td>\n",
              "      <td>1429.4</td>\n",
              "      <td>dr</td>\n",
              "      <td>2419.9</td>\n",
              "      <td>pandem</td>\n",
              "      <td>3378.3</td>\n",
              "      <td>que</td>\n",
              "      <td>1696.8</td>\n",
              "      <td>que</td>\n",
              "      <td>8931.3</td>\n",
              "      <td>death</td>\n",
              "      <td>3238.1</td>\n",
              "      <td>test</td>\n",
              "      <td>2868.3</td>\n",
              "      <td>let</td>\n",
              "      <td>5444.3</td>\n",
              "    </tr>\n",
              "    <tr>\n",
              "      <th>6</th>\n",
              "      <td>latest</td>\n",
              "      <td>3548.1</td>\n",
              "      <td>song</td>\n",
              "      <td>3288.1</td>\n",
              "      <td>sign</td>\n",
              "      <td>1426.3</td>\n",
              "      <td>ad</td>\n",
              "      <td>2344.8</td>\n",
              "      <td>like</td>\n",
              "      <td>3353.6</td>\n",
              "      <td>current</td>\n",
              "      <td>1599.5</td>\n",
              "      <td>en</td>\n",
              "      <td>6718.1</td>\n",
              "      <td>die</td>\n",
              "      <td>3231.9</td>\n",
              "      <td>he</td>\n",
              "      <td>2856.1</td>\n",
              "      <td>person</td>\n",
              "      <td>5308.0</td>\n",
              "    </tr>\n",
              "    <tr>\n",
              "      <th>7</th>\n",
              "      <td>fauci</td>\n",
              "      <td>3491.5</td>\n",
              "      <td>…</td>\n",
              "      <td>2490.4</td>\n",
              "      <td>coronaviru</td>\n",
              "      <td>1357.5</td>\n",
              "      <td>coronaviru</td>\n",
              "      <td>2192.2</td>\n",
              "      <td>get</td>\n",
              "      <td>3315.6</td>\n",
              "      <td>com</td>\n",
              "      <td>1553.7</td>\n",
              "      <td>por</td>\n",
              "      <td>4229.1</td>\n",
              "      <td>case</td>\n",
              "      <td>2977.2</td>\n",
              "      <td>dr</td>\n",
              "      <td>2705.2</td>\n",
              "      <td>pandem</td>\n",
              "      <td>5113.0</td>\n",
              "    </tr>\n",
              "    <tr>\n",
              "      <th>8</th>\n",
              "      <td>use</td>\n",
              "      <td>3445.2</td>\n",
              "      <td>flu</td>\n",
              "      <td>2030.1</td>\n",
              "      <td>scientist</td>\n",
              "      <td>1257.8</td>\n",
              "      <td>new</td>\n",
              "      <td>1731.6</td>\n",
              "      <td>trump</td>\n",
              "      <td>3244.4</td>\n",
              "      <td>uma</td>\n",
              "      <td>1513.1</td>\n",
              "      <td>lo</td>\n",
              "      <td>4081.5</td>\n",
              "      <td>day</td>\n",
              "      <td>2647.0</td>\n",
              "      <td>immun</td>\n",
              "      <td>2514.2</td>\n",
              "      <td>save</td>\n",
              "      <td>4929.1</td>\n",
              "    </tr>\n",
              "    <tr>\n",
              "      <th>9</th>\n",
              "      <td>dr</td>\n",
              "      <td>3443.5</td>\n",
              "      <td>tell</td>\n",
              "      <td>2020.5</td>\n",
              "      <td>chri</td>\n",
              "      <td>1152.1</td>\n",
              "      <td>campaign</td>\n",
              "      <td>1724.5</td>\n",
              "      <td>amp</td>\n",
              "      <td>2961.3</td>\n",
              "      <td>pode</td>\n",
              "      <td>1483.1</td>\n",
              "      <td>se</td>\n",
              "      <td>3793.2</td>\n",
              "      <td>one</td>\n",
              "      <td>2384.9</td>\n",
              "      <td>coronaviru</td>\n",
              "      <td>2472.9</td>\n",
              "      <td>choic</td>\n",
              "      <td>4434.1</td>\n",
              "    </tr>\n",
              "  </tbody>\n",
              "</table>\n",
              "</div>"
            ],
            "text/plain": [
              "  Topic 0 words Topic 0 weights  ... Topic 9 words Topic 9 weights\n",
              "0             …          8684.6  ...             …         12499.0\n",
              "1            de          5287.7  ...          mask          8518.4\n",
              "2       comment          3803.1  ...          wear          8320.0\n",
              "3           amp          3731.8  ...          live          6440.9\n",
              "4            en          3725.1  ...           get          5534.1\n",
              "5      campaign          3665.6  ...           let          5444.3\n",
              "6        latest          3548.1  ...        person          5308.0\n",
              "7         fauci          3491.5  ...        pandem          5113.0\n",
              "8           use          3445.2  ...          save          4929.1\n",
              "9            dr          3443.5  ...         choic          4434.1\n",
              "\n",
              "[10 rows x 20 columns]"
            ]
          },
          "metadata": {
            "tags": []
          },
          "execution_count": 12
        }
      ]
    },
    {
      "cell_type": "code",
      "metadata": {
        "id": "HNnXFQX0jYiV"
      },
      "source": [
        ""
      ],
      "execution_count": null,
      "outputs": []
    },
    {
      "cell_type": "code",
      "metadata": {
        "id": "yeESafVgjYgf"
      },
      "source": [
        ""
      ],
      "execution_count": null,
      "outputs": []
    },
    {
      "cell_type": "code",
      "metadata": {
        "id": "CwzZDWdyjYeT"
      },
      "source": [
        ""
      ],
      "execution_count": null,
      "outputs": []
    },
    {
      "cell_type": "code",
      "metadata": {
        "id": "9rYUMc-1jYcZ"
      },
      "source": [
        ""
      ],
      "execution_count": null,
      "outputs": []
    },
    {
      "cell_type": "code",
      "metadata": {
        "id": "MrMuZywJjYae"
      },
      "source": [
        ""
      ],
      "execution_count": null,
      "outputs": []
    },
    {
      "cell_type": "code",
      "metadata": {
        "id": "7t4QyinzE2h7"
      },
      "source": [
        "# df['is_retweet'] = df['text'].apply(lambda x: x[:2]=='RT')\n",
        "# df['is_retweet'].sum()  # number of retweets"
      ],
      "execution_count": null,
      "outputs": []
    },
    {
      "cell_type": "code",
      "metadata": {
        "id": "D0myOB7IFvVx"
      },
      "source": [
        "# df.groupby(['text']).size().reset_index(name='counts')\\\n",
        "#   .sort_values('counts', ascending=False).head(10)"
      ],
      "execution_count": null,
      "outputs": []
    },
    {
      "cell_type": "code",
      "metadata": {
        "id": "Aucn7FgwF4KO"
      },
      "source": [
        "# tweets = pd.DataFrame(df)\n",
        "# def find_mentioned(tweet):\n",
        "#     '''This function will extract the twitter handles of people mentioned in the tweet'''\n",
        "#     return re.findall('(?<!RT\\s)(@[A-Za-z]+[A-Za-z0-9-_]+)', tweet)\n",
        "# def find_hashtags(tweet):\n",
        "#     '''This function will extract hashtags'''\n",
        "#     return re.findall('(#[A-Za-z]+[A-Za-z0-9-_]+)', tweet)\n",
        "# # make new columns for mentioned usernames and hashtags\n",
        "# tweets['mentioned'] = tweets.text.apply(find_mentioned)\n",
        "# tweets['hashtags'] = tweets.text.apply(find_hashtags)\n",
        "# tweets.head(5)"
      ],
      "execution_count": null,
      "outputs": []
    },
    {
      "cell_type": "code",
      "metadata": {
        "id": "CE_y5JzxGy-t"
      },
      "source": [
        "# # number of unique hashtags\n",
        "# flattened_hashtags_df = pd.DataFrame(tweets)\n",
        "# flattened_hashtags_df['hashtags'].unique().size\n",
        "# flattened_hashtags_df.head(5)"
      ],
      "execution_count": null,
      "outputs": []
    },
    {
      "cell_type": "code",
      "metadata": {
        "id": "BYXpcGvPJHA-"
      },
      "source": [
        "# popular_hashtags = list(log['hashtags'])\n",
        "# popular_hashtags = [x for x in all_tweets if str(x) != 'nan']\n",
        "\n",
        "# popular_hashtags[:5]"
      ],
      "execution_count": null,
      "outputs": []
    },
    {
      "cell_type": "code",
      "metadata": {
        "id": "WeZo_smdJuY8"
      },
      "source": [
        "# popular_hash['hashtag'].unique().size\n",
        "# popular_hashtags[:5]"
      ],
      "execution_count": null,
      "outputs": []
    },
    {
      "cell_type": "code",
      "metadata": {
        "id": "Q-ltP2h3JLMz"
      },
      "source": [
        "# # take hashtags which appear at least this amount of times\n",
        "# min_appearance = 1000\n",
        "# # find popular hashtags - make into python set for efficiency\n",
        "# popular_hashtags_set = set(popular_hashtags[popular_hashtags.counts>=min_appearance]['hashtags'])\n",
        "# popular_hashtags_set[:5]"
      ],
      "execution_count": null,
      "outputs": []
    },
    {
      "cell_type": "code",
      "metadata": {
        "id": "oAer1gZ-WKBp"
      },
      "source": [
        "# my_stopwords = nltk.corpus.stopwords.words('english')\n",
        "# word_rooter = nltk.stem.snowball.PorterStemmer(ignore_stopwords=False).stem\n",
        "# my_punctuation = '!\"$%&\\'()*+,-./:;<=>?[\\\\]^_`{|}~•@'\n",
        "# # cleaning master function\n",
        "# def clean_tweet(tweet, bigrams=False):\n",
        "#     tweet = remove_users(tweet)\n",
        "#     tweet = remove_links(tweet)\n",
        "#     tweet = tweet.lower() # lower case\n",
        "#     tweet = re.sub('['+my_punctuation + ']+', ' ', tweet) # strip punctuation\n",
        "#     tweet = re.sub('\\s+', ' ', tweet) #remove double spacing\n",
        "#     tweet = re.sub('([0-9]+)', '', tweet) # remove numbers\n",
        "#     tweet_token_list = [word for word in tweet.split(' ')\n",
        "#                             if word not in my_stopwords] # remove stopwords\n",
        "# tweet_token_list = [word_rooter(word) if '#' not in word else word\n",
        "#                         for word in tweet_token_list] # apply word rooter\n",
        "# if bigrams:\n",
        "#         tweet_token_list = tweet_token_list+[tweet_token_list[i]+'_'+tweet_token_list[i+1]\n",
        "#                                             for i in range(len(tweet_token_list)-1)]\n",
        "#     tweet = ' '.join(tweet_token_list)\n",
        "#     return tweet\n",
        "# tweets['clean_tweet'] = tweets.full_text.apply(clean_tweet)"
      ],
      "execution_count": null,
      "outputs": []
    },
    {
      "cell_type": "code",
      "metadata": {
        "id": "5H6jA68mW5cy"
      },
      "source": [
        "# from sklearn.feature_extraction.text import CountVectorizer\n",
        "# # the vectorizer object will be used to transform text to vector form\n",
        "# vectorizer = CountVectorizer(max_df=0.9, min_df=100, token_pattern='\\w+|\\$[\\d\\.]+|\\S+')\n",
        "# # apply transformation\n",
        "# tf = vectorizer.fit_transform(tweets['text']) #.toarray()\n",
        "# # tf_feature_names tells us what word each column in the matric represents\n",
        "# tf_feature_names = vectorizer.get_feature_names()\n",
        "# tf.shape # --> (200000, 2296)"
      ],
      "execution_count": null,
      "outputs": []
    },
    {
      "cell_type": "code",
      "metadata": {
        "id": "VOPSFFZiXCqv"
      },
      "source": [
        "# from sklearn.decomposition import LatentDirichletAllocation\n",
        "# number_of_topics = 10\n",
        "# model = LatentDirichletAllocation(n_components=number_of_topics, random_state=45) # random state for reproducibility\n",
        "# # Fit data to model\n",
        "# model.fit(tf)"
      ],
      "execution_count": null,
      "outputs": []
    }
  ]
}